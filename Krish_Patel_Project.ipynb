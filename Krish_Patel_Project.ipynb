{
 "cells": [
  {
   "cell_type": "code",
   "execution_count": 40,
   "id": "b26e9eab",
   "metadata": {},
   "outputs": [],
   "source": [
    "import pandas as pd\n",
    "import statsmodels.formula.api as smf"
   ]
  },
  {
   "cell_type": "code",
   "execution_count": 41,
   "id": "183461dd",
   "metadata": {},
   "outputs": [
    {
     "data": {
      "text/html": [
       "<div>\n",
       "<style scoped>\n",
       "    .dataframe tbody tr th:only-of-type {\n",
       "        vertical-align: middle;\n",
       "    }\n",
       "\n",
       "    .dataframe tbody tr th {\n",
       "        vertical-align: top;\n",
       "    }\n",
       "\n",
       "    .dataframe thead th {\n",
       "        text-align: right;\n",
       "    }\n",
       "</style>\n",
       "<table border=\"1\" class=\"dataframe\">\n",
       "  <thead>\n",
       "    <tr style=\"text-align: right;\">\n",
       "      <th></th>\n",
       "      <th>female</th>\n",
       "      <th>black</th>\n",
       "      <th>hispanic</th>\n",
       "      <th>bytest</th>\n",
       "      <th>dadcoll</th>\n",
       "      <th>momcoll</th>\n",
       "      <th>ownhome</th>\n",
       "      <th>urban</th>\n",
       "      <th>cue80</th>\n",
       "      <th>stwmfg80</th>\n",
       "      <th>dist</th>\n",
       "      <th>tuition</th>\n",
       "      <th>ed</th>\n",
       "      <th>incomehi</th>\n",
       "    </tr>\n",
       "  </thead>\n",
       "  <tbody>\n",
       "    <tr>\n",
       "      <th>0</th>\n",
       "      <td>0</td>\n",
       "      <td>0</td>\n",
       "      <td>0</td>\n",
       "      <td>39.15</td>\n",
       "      <td>1</td>\n",
       "      <td>0</td>\n",
       "      <td>1</td>\n",
       "      <td>1</td>\n",
       "      <td>6.2</td>\n",
       "      <td>8.09</td>\n",
       "      <td>0.2</td>\n",
       "      <td>0.88915</td>\n",
       "      <td>12</td>\n",
       "      <td>1</td>\n",
       "    </tr>\n",
       "    <tr>\n",
       "      <th>1</th>\n",
       "      <td>1</td>\n",
       "      <td>0</td>\n",
       "      <td>0</td>\n",
       "      <td>48.87</td>\n",
       "      <td>0</td>\n",
       "      <td>0</td>\n",
       "      <td>1</td>\n",
       "      <td>1</td>\n",
       "      <td>6.2</td>\n",
       "      <td>8.09</td>\n",
       "      <td>0.2</td>\n",
       "      <td>0.88915</td>\n",
       "      <td>12</td>\n",
       "      <td>0</td>\n",
       "    </tr>\n",
       "    <tr>\n",
       "      <th>2</th>\n",
       "      <td>0</td>\n",
       "      <td>0</td>\n",
       "      <td>0</td>\n",
       "      <td>48.74</td>\n",
       "      <td>0</td>\n",
       "      <td>0</td>\n",
       "      <td>1</td>\n",
       "      <td>1</td>\n",
       "      <td>6.2</td>\n",
       "      <td>8.09</td>\n",
       "      <td>0.2</td>\n",
       "      <td>0.88915</td>\n",
       "      <td>12</td>\n",
       "      <td>0</td>\n",
       "    </tr>\n",
       "    <tr>\n",
       "      <th>3</th>\n",
       "      <td>0</td>\n",
       "      <td>1</td>\n",
       "      <td>0</td>\n",
       "      <td>40.40</td>\n",
       "      <td>0</td>\n",
       "      <td>0</td>\n",
       "      <td>1</td>\n",
       "      <td>1</td>\n",
       "      <td>6.2</td>\n",
       "      <td>8.09</td>\n",
       "      <td>0.2</td>\n",
       "      <td>0.88915</td>\n",
       "      <td>12</td>\n",
       "      <td>0</td>\n",
       "    </tr>\n",
       "    <tr>\n",
       "      <th>4</th>\n",
       "      <td>1</td>\n",
       "      <td>0</td>\n",
       "      <td>0</td>\n",
       "      <td>40.48</td>\n",
       "      <td>0</td>\n",
       "      <td>0</td>\n",
       "      <td>0</td>\n",
       "      <td>1</td>\n",
       "      <td>5.6</td>\n",
       "      <td>8.09</td>\n",
       "      <td>0.4</td>\n",
       "      <td>0.88915</td>\n",
       "      <td>13</td>\n",
       "      <td>0</td>\n",
       "    </tr>\n",
       "  </tbody>\n",
       "</table>\n",
       "</div>"
      ],
      "text/plain": [
       "   female  black  hispanic  bytest  dadcoll  momcoll  ownhome  urban  cue80  \\\n",
       "0       0      0         0   39.15        1        0        1      1    6.2   \n",
       "1       1      0         0   48.87        0        0        1      1    6.2   \n",
       "2       0      0         0   48.74        0        0        1      1    6.2   \n",
       "3       0      1         0   40.40        0        0        1      1    6.2   \n",
       "4       1      0         0   40.48        0        0        0      1    5.6   \n",
       "\n",
       "   stwmfg80  dist  tuition  ed  incomehi  \n",
       "0      8.09   0.2  0.88915  12         1  \n",
       "1      8.09   0.2  0.88915  12         0  \n",
       "2      8.09   0.2  0.88915  12         0  \n",
       "3      8.09   0.2  0.88915  12         0  \n",
       "4      8.09   0.4  0.88915  13         0  "
      ]
     },
     "execution_count": 41,
     "metadata": {},
     "output_type": "execute_result"
    }
   ],
   "source": [
    "df = pd.read_csv(\"CollegeDistance.csv\")\n",
    "df.head()"
   ]
  },
  {
   "cell_type": "markdown",
   "id": "1a1a909c",
   "metadata": {},
   "source": [
    "#### Q1: Run a regression of years of completed education (ED) on distance to the nearest college (Dist), where Dist is measured in tens of miles."
   ]
  },
  {
   "cell_type": "code",
   "execution_count": 42,
   "id": "d287eab6",
   "metadata": {},
   "outputs": [
    {
     "name": "stdout",
     "output_type": "stream",
     "text": [
      "                            OLS Regression Results                            \n",
      "==============================================================================\n",
      "Dep. Variable:                     ed   R-squared:                       0.007\n",
      "Model:                            OLS   Adj. R-squared:                  0.007\n",
      "Method:                 Least Squares   F-statistic:                     28.48\n",
      "Date:                Thu, 21 Nov 2024   Prob (F-statistic):           1.00e-07\n",
      "Time:                        15:49:02   Log-Likelihood:                -7632.2\n",
      "No. Observations:                3796   AIC:                         1.527e+04\n",
      "Df Residuals:                    3794   BIC:                         1.528e+04\n",
      "Df Model:                           1                                         \n",
      "Covariance Type:            nonrobust                                         \n",
      "==============================================================================\n",
      "                 coef    std err          t      P>|t|      [0.025      0.975]\n",
      "------------------------------------------------------------------------------\n",
      "Intercept     13.9559      0.038    369.945      0.000      13.882      14.030\n",
      "dist          -0.0734      0.014     -5.336      0.000      -0.100      -0.046\n",
      "==============================================================================\n",
      "Omnibus:                     7187.794   Durbin-Watson:                   1.769\n",
      "Prob(Omnibus):                  0.000   Jarque-Bera (JB):              361.676\n",
      "Skew:                           0.410   Prob(JB):                     2.90e-79\n",
      "Kurtosis:                       1.729   Cond. No.                         3.73\n",
      "==============================================================================\n",
      "\n",
      "Notes:\n",
      "[1] Standard Errors assume that the covariance matrix of the errors is correctly specified.\n"
     ]
    }
   ],
   "source": [
    "reg = smf.ols('ed ~ dist', data=df)\n",
    "model_q1 = reg.fit()\n",
    "print(model_q1.summary())"
   ]
  },
  {
   "cell_type": "markdown",
   "id": "2e1c5d81",
   "metadata": {},
   "source": [
    "#### Q1-A: What is the estimated intercept? What is the estimated slope? Use the estimated regression to answer this question: How does the average value of years of completed schooling change when colleges are built close to where students go to high school?"
   ]
  },
  {
   "cell_type": "markdown",
   "id": "734f0266",
   "metadata": {},
   "source": [
    "The regression equation estimated is ed = 13.9559 - 0.0734 * dist. As the distance from 4year College in 10's of miles increases, the year of education completed decrease. So, When colleges are built closer to high schools, reducing the distance by 10 miles would increase the average years of completed schooling by approximately 0.0734 years."
   ]
  },
  {
   "cell_type": "code",
   "execution_count": 43,
   "id": "5f35b4c6",
   "metadata": {},
   "outputs": [
    {
     "name": "stdout",
     "output_type": "stream",
     "text": [
      "Estimated intercept: 13.955856114789412\n",
      "Estimated slope: -0.07337270712920115\n"
     ]
    }
   ],
   "source": [
    "intercept = model_q1.params['Intercept']\n",
    "slope = model_q1.params['dist']\n",
    "print(f\"Estimated intercept: {intercept}\")\n",
    "print(f\"Estimated slope: {slope}\")"
   ]
  },
  {
   "cell_type": "markdown",
   "id": "5c03c21c",
   "metadata": {},
   "source": [
    "#### Q1-B: Bob’s high school was 20 miles from the nearest college. Predict Bob’s years of completed education using the estimated regression. How would the prediction change if Bob lived 10 miles from the nearest college?"
   ]
  },
  {
   "cell_type": "code",
   "execution_count": 44,
   "id": "70db9b8e",
   "metadata": {},
   "outputs": [
    {
     "name": "stdout",
     "output_type": "stream",
     "text": [
      "Predicted years of education for 20 miles: 13.80911070053101\n",
      "Predicted years of education for 10 miles: 13.882483407660212\n"
     ]
    }
   ],
   "source": [
    "edu_20 = model_q1.predict(exog={'dist':2})\n",
    "edu_10 = model_q1.predict(exog={'dist':1})\n",
    "\n",
    "print(f\"Predicted years of education for 20 miles: {edu_20.iloc[0]}\")\n",
    "print(f\"Predicted years of education for 10 miles: {edu_10.iloc[0]}\")"
   ]
  },
  {
   "cell_type": "markdown",
   "id": "18fd4dec",
   "metadata": {},
   "source": [
    "#### Q1-C: Does distance to college explain a large fraction of the variance in educational attainment across individuals? Explain"
   ]
  },
  {
   "cell_type": "markdown",
   "id": "42133cc7",
   "metadata": {},
   "source": [
    "No, the distance to college doesn't explain a large fraction of the variance in educational attainment across individuals. Since the R^2 is 0.007, this value indicates that the varaible 'dist'(distance to college in 10's of miles) explains only 0.7% of the variance in years of completed education across individuals. This is a very small proportion, suggesting that distance alone is not a significant factor in explaining variations in educational attainment."
   ]
  },
  {
   "cell_type": "markdown",
   "id": "5bbd4ff1",
   "metadata": {},
   "source": [
    "#### Q1-D: Is the estimated regression slope coefficient statistically significant? That is, can you reject the null hypothesis H0 : β1 = 0 versus a two-sided alternative at the 10%, 5%, or 1% significance level? What is the p-value associated with coefficient’s t-statistic?"
   ]
  },
  {
   "cell_type": "code",
   "execution_count": 59,
   "id": "17815b04",
   "metadata": {},
   "outputs": [
    {
     "name": "stdout",
     "output_type": "stream",
     "text": [
      "p_value: 0.0000001004\n"
     ]
    }
   ],
   "source": [
    "p_value = model_q1.pvalues['dist']\n",
    "print(f\"p_value: {p_value:.10f}\")"
   ]
  },
  {
   "cell_type": "markdown",
   "id": "fabdb974",
   "metadata": {},
   "source": [
    "The estimated slope coefficient for the regression of years of completed education (ed) on distance to the nearest college (dist) is −0.0734. This means that for every 10-mile increase in distance to the nearest college, the average number of years of completed education decreases by approximately 0.073 years. The p-value is extremely small, much lower than all significance levels (0.10, 0.05, and 0.01). Therefore, we reject the null hypothesis at the 10%, 5%, and 1% significance levels. This indicates that the slope coefficient is statistically significant and that the distance to the nearest college has a meaningful impact on educational attainment. In conclusion, the data provides strong evidence that being farther from a college decreases the number of years of completed education."
   ]
  },
  {
   "cell_type": "markdown",
   "id": "1ce805f1",
   "metadata": {},
   "source": [
    "#### Q1-E:Construct a 95% confidence interval for the slope coefficient."
   ]
  },
  {
   "cell_type": "markdown",
   "id": "6fc8c223",
   "metadata": {},
   "source": [
    "95% Confidence interval for the slope coefficient is: [-0.100, -0.046]"
   ]
  },
  {
   "cell_type": "markdown",
   "id": "8114e950",
   "metadata": {},
   "source": [
    "#### Q1-F: An education advocacy group argues that, on average, a person’s educational attainment would increase by approximately 0.15 year if distance to the nearest college is decreased by 20 miles. Is the advocacy groups’ claim consistent with the estimated regression? Explain."
   ]
  },
  {
   "cell_type": "markdown",
   "id": "8f374167",
   "metadata": {},
   "source": [
    "Δed = −0.0734 * −2 = 0.1468 years\n",
    "\n",
    "The advocacy group's claim is consistent with the estimated regression model, as the predicted value (0.1468 years) is almost identical to their value (0.15 years)."
   ]
  },
  {
   "cell_type": "markdown",
   "id": "e2d8f091",
   "metadata": {},
   "source": [
    "#### Q2: Run a regression of ED on Dist, but include some additional regressors to control for characteristics of the student, the student’s family, and the local labor market. In particular, include as additional regressors Bytest, Female, Black, Hispanic, Incomehi, Ownhome, DadColl, Cue80, and Stwmfg80. What is the estimated effect of Dist on ED?"
   ]
  },
  {
   "cell_type": "code",
   "execution_count": 45,
   "id": "df3d01c9",
   "metadata": {},
   "outputs": [
    {
     "name": "stdout",
     "output_type": "stream",
     "text": [
      "                            OLS Regression Results                            \n",
      "==============================================================================\n",
      "Dep. Variable:                     ed   R-squared:                       0.279\n",
      "Model:                            OLS   Adj. R-squared:                  0.277\n",
      "Method:                 Least Squares   F-statistic:                     146.3\n",
      "Date:                Thu, 21 Nov 2024   Prob (F-statistic):          6.94e-260\n",
      "Time:                        15:49:02   Log-Likelihood:                -7025.9\n",
      "No. Observations:                3796   AIC:                         1.407e+04\n",
      "Df Residuals:                    3785   BIC:                         1.414e+04\n",
      "Df Model:                          10                                         \n",
      "Covariance Type:            nonrobust                                         \n",
      "==============================================================================\n",
      "                 coef    std err          t      P>|t|      [0.025      0.975]\n",
      "------------------------------------------------------------------------------\n",
      "Intercept      8.8275      0.250     35.271      0.000       8.337       9.318\n",
      "dist          -0.0315      0.012     -2.550      0.011      -0.056      -0.007\n",
      "bytest         0.0938      0.003     29.669      0.000       0.088       0.100\n",
      "female         0.1454      0.051      2.874      0.004       0.046       0.245\n",
      "black          0.3680      0.071      5.156      0.000       0.228       0.508\n",
      "hispanic       0.3985      0.074      5.352      0.000       0.253       0.545\n",
      "incomehi       0.3952      0.061      6.529      0.000       0.277       0.514\n",
      "ownhome        0.1521      0.067      2.277      0.023       0.021       0.283\n",
      "dadcoll        0.6961      0.069     10.129      0.000       0.561       0.831\n",
      "cue80          0.0232      0.010      2.409      0.016       0.004       0.042\n",
      "stwmfg80      -0.0518      0.020     -2.608      0.009      -0.091      -0.013\n",
      "==============================================================================\n",
      "Omnibus:                      118.266   Durbin-Watson:                   1.924\n",
      "Prob(Omnibus):                  0.000   Jarque-Bera (JB):               97.867\n",
      "Skew:                           0.320   Prob(JB):                     5.60e-22\n",
      "Kurtosis:                       2.543   Cond. No.                         539.\n",
      "==============================================================================\n",
      "\n",
      "Notes:\n",
      "[1] Standard Errors assume that the covariance matrix of the errors is correctly specified.\n"
     ]
    }
   ],
   "source": [
    "reg = smf.ols('ed ~ dist + bytest + female + black + hispanic + incomehi + ownhome + dadcoll + cue80 + stwmfg80', data=df)\n",
    "model_q2 = reg.fit()\n",
    "print(model_q2.summary())"
   ]
  },
  {
   "cell_type": "markdown",
   "id": "a6235bdc",
   "metadata": {},
   "source": [
    "#### Q2-A: Is the estimated effect of Dist on ED in the regression in Q2 substantively different from the regression in Q1? Based on this, does the regression in Q1 seem to suffer from important omitted variable bias?"
   ]
  },
  {
   "cell_type": "markdown",
   "id": "af1982a6",
   "metadata": {},
   "source": [
    "The coefficient for Dist is -0.0315 in Q2, meaning that for every additional 10 miles of distance to the nearest college, the years of education completed decreases by 0.0315 years. Since the ceof in Q1 was comparatively larger than the ceof in Q2, the regression in Q1 suffers from omitted variable bias, as it ignores important factors that influence education attainment."
   ]
  },
  {
   "cell_type": "markdown",
   "id": "2f123c74",
   "metadata": {},
   "source": [
    "#### Q2-B: The value of the coefficient on DadColl is positive. What does this coefficient measure?"
   ]
  },
  {
   "cell_type": "markdown",
   "id": "fc408cf7",
   "metadata": {},
   "source": [
    "The coefficient on DadColl is 0.6961. This implies that on average, students whose fathers attended college complete 0.6961 more years of education than those whose fathers did not, holding all other factors constant."
   ]
  },
  {
   "cell_type": "markdown",
   "id": "ea204320",
   "metadata": {},
   "source": [
    "#### Q2-C: Explain why Cue80 and Swmfg80 appear in the regression. Are the signs of their estimated coefficients (+ or -) what you would have believed? Interpret the magnitudes of these coefficients."
   ]
  },
  {
   "cell_type": "markdown",
   "id": "80742212",
   "metadata": {},
   "source": [
    "Cue80 (county unemployment rate in 1980) represents local labor market conditions that could influence educational attainment. Higher unemployment rates may encourage students to pursue further education due to reduced job opportunities. A 1% increase in the county unemployment rate is associated with an average increase of 0.0232 years in completed education, holding other factors constant. This aligns with the theory that higher unemployment encourages education.\n",
    "\n",
    "Stwmfg80 (state manufacturing hourly wage in 1980) captures economic conditions that affect the opportunity cost of education. A higher manufacturing wage may incentivize individuals to enter the workforce instead of pursuing additional education. A $1 increase in the state manufacturing hourly wage is associated with an average decrease of 0.0518 years in completed education. This suggests that higher wages may reduce the motives to stay in school."
   ]
  },
  {
   "cell_type": "markdown",
   "id": "8115b4c0",
   "metadata": {},
   "source": [
    "#### Q2-D: Bob is a black male. His high school was 20 miles from the nearest college. His baseyear composite test score (Bytest) was 58. His family income in 1980 was 26,000, and his family owned a home. His mother attended college, but his father did not. The unemployment rate in his county was 7.5%, and the state average manufacturing hourly wage was 9.75. Predict Bob’s years of completed schooling using the regression in Q2."
   ]
  },
  {
   "cell_type": "code",
   "execution_count": 46,
   "id": "17c4bfc1",
   "metadata": {},
   "outputs": [
    {
     "name": "stdout",
     "output_type": "stream",
     "text": [
      "Predicted years of education for bob is 14.422543543303458\n"
     ]
    }
   ],
   "source": [
    "bobs_values = model_q2.predict(exog={'black':0,\n",
    "                                     'hispanic': 0,\n",
    "                                     'dist': 2,\n",
    "                                     'female': 0,\n",
    "                                     'bytest': 58,\n",
    "                                     'incomehi': 1,\n",
    "                                     'ownhome': 1,\n",
    "                                     'momcoll': 1,\n",
    "                                     'dadcoll': 0,\n",
    "                                     'cue80': 7.5,\n",
    "                                     'stwmfg80': 9.75})\n",
    "\n",
    "print(f\"Predicted years of education for bob is {bobs_values.iloc[0]}\")"
   ]
  },
  {
   "cell_type": "markdown",
   "id": "1259518e",
   "metadata": {},
   "source": [
    "#### Q2-E: Jim has the same characteristics as Bob except that his high school was 40 miles from the nearest college. Predict Jim’s years of completed schooling using the regression in Q2."
   ]
  },
  {
   "cell_type": "code",
   "execution_count": 48,
   "id": "76477733",
   "metadata": {},
   "outputs": [
    {
     "name": "stdout",
     "output_type": "stream",
     "text": [
      "Predicted years of education for Jim is 14.359466075645905\n"
     ]
    }
   ],
   "source": [
    "jims_values = model_q2.predict(exog={'black':0,\n",
    "                                     'hispanic': 0,\n",
    "                                     'dist': 4,\n",
    "                                     'female': 0,\n",
    "                                     'bytest': 58,\n",
    "                                     'incomehi': 1,\n",
    "                                     'ownhome': 1,\n",
    "                                     'momcoll': 1,\n",
    "                                     'dadcoll': 0,\n",
    "                                     'cue80': 7.5,\n",
    "                                     'stwmfg80': 9.75})\n",
    "\n",
    "print(f\"Predicted years of education for Jim is {jims_values.iloc[0]}\")"
   ]
  },
  {
   "cell_type": "markdown",
   "id": "2a8b446a",
   "metadata": {},
   "source": [
    "#### Q2-F: It has been argued that, controlling for other factors, blacks and Hispanics complete more college than whites. Is this result consistent with the regressions in Q2?\n",
    "\n"
   ]
  },
  {
   "cell_type": "markdown",
   "id": "7ebf6519",
   "metadata": {},
   "source": [
    "Yes, the results indicate that, controlling for other factors, blacks and Hispanics complete more years of education on average than whites. These findings support the argument presented. Since the coefficient for \"black\" is 0.368, this means that holing other factors constant, being black is associated with an additional 0.368 year of completed education compared to being white. Similarly, the coefficient for \"hispanic\" is 0.399, this means that holding other factors constant, being hispanic is associated with an additional 0.399 years of completed education compared to the white."
   ]
  }
 ],
 "metadata": {
  "kernelspec": {
   "display_name": "Python 3 (ipykernel)",
   "language": "python",
   "name": "python3"
  },
  "language_info": {
   "codemirror_mode": {
    "name": "ipython",
    "version": 3
   },
   "file_extension": ".py",
   "mimetype": "text/x-python",
   "name": "python",
   "nbconvert_exporter": "python",
   "pygments_lexer": "ipython3",
   "version": "3.11.7"
  }
 },
 "nbformat": 4,
 "nbformat_minor": 5
}
